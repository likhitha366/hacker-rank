{
  "nbformat": 4,
  "nbformat_minor": 0,
  "metadata": {
    "colab": {
      "provenance": [],
      "authorship_tag": "ABX9TyOLSvTzPK9egN4qtyyeve8q",
      "include_colab_link": true
    },
    "kernelspec": {
      "name": "python3",
      "display_name": "Python 3"
    },
    "language_info": {
      "name": "python"
    }
  },
  "cells": [
    {
      "cell_type": "markdown",
      "metadata": {
        "id": "view-in-github",
        "colab_type": "text"
      },
      "source": [
        "<a href=\"https://colab.research.google.com/github/likhitha366/hacker-rank/blob/main/max%2Cdigit_problems.ipynb\" target=\"_parent\"><img src=\"https://colab.research.google.com/assets/colab-badge.svg\" alt=\"Open In Colab\"/></a>"
      ]
    },
    {
      "cell_type": "code",
      "execution_count": null,
      "metadata": {
        "colab": {
          "base_uri": "https://localhost:8080/"
        },
        "id": "cssQMHzAKXee",
        "outputId": "51f5fa47-4f50-49df-99d1-d10b8a092478"
      },
      "outputs": [
        {
          "output_type": "stream",
          "name": "stdout",
          "text": [
            "2\n",
            "3\n",
            "4\n",
            "hermione got the most points\n"
          ]
        }
      ],
      "source": [
        "harry=int(input())\n",
        "ron=int(input())\n",
        "hermione=int(input())\n",
        "if harry>ron and harry>hermione:\n",
        "    print(\"harry got the most points\")\n",
        "elif ron>hermione:\n",
        "    print(\"ron got the most points\")\n",
        "else:\n",
        "    print(\"hermione got the most points\")"
      ]
    },
    {
      "cell_type": "code",
      "source": [
        "def check_secret_code():\n",
        "    first_digit = int(input())\n",
        "    third_digit = int(input())\n",
        "    last_digit = int(input())\n",
        "    third_last_digit = int(input())\n",
        "\n",
        "    sum_digits = first_digit + third_digit + last_digit + third_last_digit\n",
        "\n",
        "    if sum_digits % 3 == 0:\n",
        "        print(\"Secret code is found\")\n",
        "    else:\n",
        "        print(\"Not found\")\n",
        "check_secret_code()"
      ],
      "metadata": {
        "colab": {
          "base_uri": "https://localhost:8080/"
        },
        "id": "lGk8v7iIcmMy",
        "outputId": "7a541106-b471-4c5c-f8f0-8fceed9ae125"
      },
      "execution_count": null,
      "outputs": [
        {
          "output_type": "stream",
          "name": "stdout",
          "text": [
            "2\n",
            "4\n",
            "1\n",
            "5\n",
            "Secret code is found\n"
          ]
        }
      ]
    },
    {
      "cell_type": "code",
      "source": [],
      "metadata": {
        "id": "RKsohL_5czZF"
      },
      "execution_count": null,
      "outputs": []
    }
  ]
}